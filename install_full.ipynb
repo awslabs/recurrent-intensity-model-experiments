{
 "cells": [
  {
   "cell_type": "markdown",
   "id": "5c3bdb05",
   "metadata": {},
   "source": [
    "# install core packages"
   ]
  },
  {
   "cell_type": "code",
   "execution_count": null,
   "id": "7875348c",
   "metadata": {},
   "outputs": [],
   "source": [
    "!pip install -e .\n",
    "# restart after installation"
   ]
  },
  {
   "cell_type": "code",
   "execution_count": null,
   "id": "47768e3f",
   "metadata": {},
   "outputs": [],
   "source": [
    "# If you see \"RuntimeError: Unable to find target ...\", try the following\n",
    "# !pip install --no-cache-dir --ignore-installed -U numba"
   ]
  },
  {
   "cell_type": "code",
   "execution_count": null,
   "id": "cd9e0c87",
   "metadata": {},
   "outputs": [],
   "source": [
    "%run test/test_rime.py\n",
    "test_minimal_dataset()"
   ]
  },
  {
   "cell_type": "markdown",
   "id": "ded42ad5",
   "metadata": {},
   "source": [
    "# install package dgl"
   ]
  },
  {
   "cell_type": "code",
   "execution_count": null,
   "id": "0ad452ff",
   "metadata": {},
   "outputs": [],
   "source": [
    "CUDA_VERSION=!(nvcc --version | sed -n 's/^.*release \\([0-9]\\+\\.[0-9]\\+\\).*$/\\1/p')\n",
    "!pip install dgl-cu{CUDA_VERSION[-1].replace('.', '')}\n",
    "# restart after installation"
   ]
  },
  {
   "cell_type": "code",
   "execution_count": null,
   "id": "41d45fa1",
   "metadata": {},
   "outputs": [],
   "source": [
    "%run test/test_rime.py\n",
    "test_minimal_dataset()"
   ]
  },
  {
   "cell_type": "markdown",
   "id": "0c8a1beb",
   "metadata": {},
   "source": [
    "# install package implicit"
   ]
  },
  {
   "cell_type": "code",
   "execution_count": null,
   "id": "cde24c3e",
   "metadata": {},
   "outputs": [],
   "source": [
    "!conda install -c conda-forge implicit implicit-proc=*=gpu -y\n",
    "# restart after installation"
   ]
  },
  {
   "cell_type": "code",
   "execution_count": null,
   "id": "d781e742",
   "metadata": {},
   "outputs": [],
   "source": [
    "%run test/test_rime.py\n",
    "test_minimal_dataset()"
   ]
  }
 ],
 "metadata": {
  "kernelspec": {
   "display_name": "conda_pytorch_p38",
   "language": "python",
   "name": "conda_pytorch_p38"
  },
  "language_info": {
   "codemirror_mode": {
    "name": "ipython",
    "version": 3
   },
   "file_extension": ".py",
   "mimetype": "text/x-python",
   "name": "python",
   "nbconvert_exporter": "python",
   "pygments_lexer": "ipython3",
   "version": "3.8.12"
  }
 },
 "nbformat": 4,
 "nbformat_minor": 5
}
