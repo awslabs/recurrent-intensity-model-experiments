{
 "cells": [
  {
   "cell_type": "markdown",
   "id": "ff5443bf",
   "metadata": {},
   "source": [
    "# install core packages"
   ]
  },
  {
   "cell_type": "code",
   "execution_count": null,
   "id": "c4fa03b1",
   "metadata": {},
   "outputs": [],
   "source": [
    "!pip install -e .\n",
    "# restart after installation"
   ]
  },
  {
   "cell_type": "code",
   "execution_count": null,
   "id": "de6231a6",
   "metadata": {},
   "outputs": [],
   "source": [
    "%run test/test_rime.py\n",
    "test_minimal_dataset()"
   ]
  },
  {
   "cell_type": "markdown",
   "id": "4e609d03",
   "metadata": {},
   "source": [
    "# install package dgl"
   ]
  },
  {
   "cell_type": "code",
   "execution_count": null,
   "id": "2c299b13",
   "metadata": {},
   "outputs": [],
   "source": [
    "CUDA_VERSION=!(nvcc --version | sed -n 's/^.*release \\([0-9]\\+\\.[0-9]\\+\\).*$/\\1/p')\n",
    "!pip install dgl-cu{CUDA_VERSION[-1].replace('.', '')}\n",
    "# restart after installation"
   ]
  },
  {
   "cell_type": "code",
   "execution_count": null,
   "id": "9cfce9a5",
   "metadata": {},
   "outputs": [],
   "source": [
    "%run test/test_rime.py\n",
    "test_minimal_dataset()"
   ]
  },
  {
   "cell_type": "markdown",
   "id": "fadc8f8d",
   "metadata": {},
   "source": [
    "# install package implicit"
   ]
  },
  {
   "cell_type": "code",
   "execution_count": null,
   "id": "809b6ea7",
   "metadata": {},
   "outputs": [],
   "source": [
    "!conda install -c conda-forge implicit implicit-proc=*=gpu -y\n",
    "# restart after installation"
   ]
  },
  {
   "cell_type": "code",
   "execution_count": null,
   "id": "ff626afb",
   "metadata": {},
   "outputs": [],
   "source": [
    "%run test/test_rime.py\n",
    "test_minimal_dataset()"
   ]
  }
 ],
 "metadata": {
  "kernelspec": {
   "display_name": "conda_python3",
   "language": "python",
   "name": "conda_python3"
  },
  "language_info": {
   "codemirror_mode": {
    "name": "ipython",
    "version": 3
   },
   "file_extension": ".py",
   "mimetype": "text/x-python",
   "name": "python",
   "nbconvert_exporter": "python",
   "pygments_lexer": "ipython3",
   "version": "3.8.12"
  }
 },
 "nbformat": 4,
 "nbformat_minor": 5
}
